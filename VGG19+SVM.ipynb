{
  "nbformat": 4,
  "nbformat_minor": 0,
  "metadata": {
    "colab": {
      "provenance": [],
      "collapsed_sections": [
        "qWAKutLrKDtS",
        "3Dv37UXZJwi6",
        "uZS3nSxWh9g4",
        "W99Zqq7clT-D",
        "gKyiBBX923RY",
        "XIpUkD1X3MtN",
        "eBMIcDDr3ng0",
        "S5Bossa0Kcm-",
        "Gm9y6iLzKh7E",
        "wtA9ZtO71lAa",
        "rmCpUfeyLFep"
      ]
    },
    "kernelspec": {
      "name": "python3",
      "display_name": "Python 3"
    },
    "language_info": {
      "name": "python"
    },
    "accelerator": "GPU"
  },
  "cells": [
    {
      "cell_type": "markdown",
      "metadata": {
        "id": "qWAKutLrKDtS"
      },
      "source": [
        "### Connect to Google Drive"
      ]
    },
    {
      "cell_type": "code",
      "metadata": {
        "id": "lxF0VRWmI1zZ"
      },
      "source": [
        "from google.colab import drive\n",
        "drive.mount('/content/drive')"
      ],
      "execution_count": null,
      "outputs": []
    },
    {
      "cell_type": "markdown",
      "metadata": {
        "id": "3Dv37UXZJwi6"
      },
      "source": [
        "### Extract dataset"
      ]
    },
    {
      "cell_type": "code",
      "metadata": {
        "id": "ijw6GpxGJjal"
      },
      "source": [
        "! tar -zxvf drive/MyDrive/I2ML/dataset.tar.gz"
      ],
      "execution_count": null,
      "outputs": []
    },
    {
      "cell_type": "code",
      "metadata": {
        "id": "m9xUEKI_oHPX"
      },
      "source": [
        "#%cd dataset\n",
        "#%cd ..\n",
        "! ls\n",
        "# cd train\n"
      ],
      "execution_count": null,
      "outputs": []
    },
    {
      "cell_type": "markdown",
      "metadata": {
        "id": "uZS3nSxWh9g4"
      },
      "source": [
        "### Splitting folder for validation"
      ]
    },
    {
      "cell_type": "code",
      "metadata": {
        "id": "82R-AJRNGSe5"
      },
      "source": [
        "! mkdir dataset/src"
      ],
      "execution_count": null,
      "outputs": []
    },
    {
      "cell_type": "code",
      "metadata": {
        "id": "aAl6vHK8GFJ4"
      },
      "source": [
        "from distutils.dir_util import copy_tree\n",
        "import shutil\n",
        "copy_tree(\"dataset/train/\", \"dataset/src\")\n",
        "\n",
        "shutil.rmtree('dataset/train/')"
      ],
      "execution_count": null,
      "outputs": []
    },
    {
      "cell_type": "code",
      "metadata": {
        "id": "dI-Y4LjWGYX_"
      },
      "source": [
        "! ls dataset/src/Merging/"
      ],
      "execution_count": null,
      "outputs": []
    },
    {
      "cell_type": "code",
      "metadata": {
        "id": "rKDdMzbwiGY3"
      },
      "source": [
        "import os\n",
        "import numpy as np\n",
        "import shutil\n",
        "import random\n",
        "\n",
        "# # Creating Train / Val folders (One time use)\n",
        "root_dir = 'dataset'\n",
        "classes_dir = ['/Barred Spiral','/Edge-on without Bulge','/Unbarred Loose Spiral','/Cigar Shaped Smooth','/In-between Round Smooth','/Unbarred Tight Spiral','/Disturbed','/Merging','/Edge-on with Bulge','/Round Smooth']\n",
        "\n",
        "#val_ratio = 0.15\n",
        "#test_ratio = 0.05\n",
        "for cls in classes_dir:\n",
        "    \n",
        "    os.makedirs(root_dir +'/train' + cls)\n",
        "    os.makedirs(root_dir +'/val' + cls)\n",
        "\n",
        "    # Creating partitions of the data after shuffeling\n",
        "    src = root_dir + \"/src\" + cls # Folder to copy images from\n",
        "\n",
        "    allFileNames = os.listdir(src)\n",
        "    random.shuffle(allFileNames)\n",
        "    print(len(allFileNames))\n",
        "    \n",
        "    \n",
        "    np.random.shuffle(allFileNames)\n",
        "    train_FileNames, val_FileNames = np.split(np.array(allFileNames), [int(len(allFileNames)*0.8)])\n",
        "                                              \n",
        "\n",
        "    \"\"\"\n",
        "    train_FileNames, val_FileNames = torch.utils.data.random_split(allFileNames[i], \n",
        "                                                                  [int(len(allFileNames[i])*0.8), int(len(allFileNames[i])*0.2)], \n",
        "                                                                  generator=torch.Generator().manual_seed(42))\n",
        "    \"\"\"\n",
        "\n",
        "\n",
        "    train_FileNames = [src+'/'+ name for name in train_FileNames.tolist()]\n",
        "    val_FileNames = [src+'/' + name for name in val_FileNames.tolist()]\n",
        "\n",
        "    print('Total images: ', len(allFileNames))\n",
        "    print('Training: ', len(train_FileNames))\n",
        "    print('Validation: ', len(val_FileNames))\n",
        "\n",
        "    # Copy-pasting images\n",
        "    for name in train_FileNames:\n",
        "        shutil.copy(name, root_dir +'/train' + cls)\n",
        "\n",
        "    for name in val_FileNames:\n",
        "        shutil.copy(name, root_dir +'/val' + cls)\n",
        "    \n"
      ],
      "execution_count": null,
      "outputs": []
    },
    {
      "cell_type": "code",
      "metadata": {
        "id": "FNiBOAD6RTaM"
      },
      "source": [
        "!ls dataset/val/Barred\\ Spiral"
      ],
      "execution_count": null,
      "outputs": []
    },
    {
      "cell_type": "code",
      "metadata": {
        "id": "4VDnxJYYBSmh"
      },
      "source": [
        "! mkdir dataset/test/unknown\n",
        "! mv dataset/test/*.png dataset/test/unknown/"
      ],
      "execution_count": null,
      "outputs": []
    },
    {
      "cell_type": "markdown",
      "metadata": {
        "id": "W99Zqq7clT-D"
      },
      "source": [
        "# Various imports"
      ]
    },
    {
      "cell_type": "code",
      "metadata": {
        "id": "j8aKGYzA6r5U"
      },
      "source": [
        "import numpy as np # linear algebra\n",
        "import os\n",
        "import torch\n",
        "import tarfile\n",
        "import torchvision\n",
        "import torch.nn as nn\n",
        "from PIL import Image\n",
        "import matplotlib.pyplot as plt\n",
        "import torch.nn.functional as F\n",
        "from torchvision import transforms\n",
        "from torchvision.utils import make_grid\n",
        "from torch.utils.data import random_split\n",
        "from torchvision.transforms import ToTensor\n",
        "from torchvision.datasets import ImageFolder\n",
        "from torch.utils.data import Dataset, DataLoader\n",
        "from torchvision.datasets.utils import download_url\n"
      ],
      "execution_count": null,
      "outputs": []
    },
    {
      "cell_type": "markdown",
      "metadata": {
        "id": "gKyiBBX923RY"
      },
      "source": [
        "# Dataset, data loader, transformations"
      ]
    },
    {
      "cell_type": "code",
      "metadata": {
        "id": "p0P-5dX--O-u"
      },
      "source": [
        "transform_train = transforms.Compose([\n",
        "    \n",
        "    transforms.Resize((224,224)), \n",
        "    transforms.RandomHorizontalFlip(),\n",
        "    transforms.RandomVerticalFlip(),\n",
        "    transforms.RandomRotation(degrees=180),\n",
        "    transforms.ToTensor(),\n",
        "    #transforms.Normalize((.5, .5, .5), (.5, .5, .5))\n",
        "    transforms.Normalize([0.485, 0.456, 0.406],[0.229, 0.224, 0.225])\n",
        "    \n",
        "])\n",
        "\n",
        "#Augmentation is not done for test/validation data.\n",
        "transform_test = transforms.Compose([\n",
        "    \n",
        "    transforms.Resize((224,224)),\n",
        "    transforms.ToTensor(),\n",
        "    #transforms.Normalize((.5, .5, .5), (.5, .5, .5))\n",
        "    transforms.Normalize([0.485, 0.456, 0.406],[0.229, 0.224, 0.225])\n",
        "    \n",
        "])\n"
      ],
      "execution_count": null,
      "outputs": []
    },
    {
      "cell_type": "code",
      "metadata": {
        "id": "8typXenG-Rgl"
      },
      "source": [
        "train_ds = ImageFolder('./dataset/train', transform=transform_train)\n",
        "test_ds = ImageFolder('./dataset/val', transform=transform_test)\n",
        "pred_ds = ImageFolder('./dataset/test', transform=transform_test)"
      ],
      "execution_count": null,
      "outputs": []
    },
    {
      "cell_type": "code",
      "metadata": {
        "colab": {
          "base_uri": "https://localhost:8080/"
        },
        "id": "Ak6NpxPH-UGh",
        "outputId": "5f400ebc-53aa-4670-ede6-d503c1f6485e"
      },
      "source": [
        "#checking lengths\n",
        "len(train_ds),len(test_ds),len(pred_ds)"
      ],
      "execution_count": null,
      "outputs": [
        {
          "output_type": "execute_result",
          "data": {
            "text/plain": [
              "(9928, 2487, 5321)"
            ]
          },
          "metadata": {
            "tags": []
          },
          "execution_count": 13
        }
      ]
    },
    {
      "cell_type": "code",
      "metadata": {
        "colab": {
          "base_uri": "https://localhost:8080/"
        },
        "id": "po4XahDAEHKM",
        "outputId": "efa5be7c-7bd3-4829-a356-0c100742d701"
      },
      "source": [
        "image,label  = train_ds[0]\n",
        "print(image.shape, label)"
      ],
      "execution_count": null,
      "outputs": [
        {
          "output_type": "stream",
          "text": [
            "torch.Size([3, 224, 224]) 0\n"
          ],
          "name": "stdout"
        }
      ]
    },
    {
      "cell_type": "code",
      "metadata": {
        "id": "cPPsnvgWEvxb"
      },
      "source": [
        "batch_size=32\n",
        "train_dl = DataLoader(train_ds, batch_size, shuffle=True, num_workers=2, pin_memory=True)\n",
        "val_dl = DataLoader(test_ds, batch_size, num_workers=2, pin_memory=True)\n",
        "pred_dl = DataLoader(pred_ds, batch_size, num_workers=2, pin_memory=True)"
      ],
      "execution_count": null,
      "outputs": []
    },
    {
      "cell_type": "markdown",
      "metadata": {
        "id": "XIpUkD1X3MtN"
      },
      "source": [
        "# Visualization of a batch in train set"
      ]
    },
    {
      "cell_type": "code",
      "metadata": {
        "colab": {
          "base_uri": "https://localhost:8080/",
          "height": 177
        },
        "id": "PtUPjuOqFIF0",
        "outputId": "ed74dddc-4f14-4e4a-bee1-ed39d3727136"
      },
      "source": [
        "for images, _ in train_dl:\n",
        "    print('images.shape:', images.shape)\n",
        "    plt.figure(figsize=(16,8))\n",
        "    plt.axis('off')\n",
        "    plt.imshow(make_grid(images, nrow=16).permute((1, 2, 0)))\n",
        "    break"
      ],
      "execution_count": null,
      "outputs": [
        {
          "output_type": "stream",
          "text": [
            "Clipping input data to the valid range for imshow with RGB data ([0..1] for floats or [0..255] for integers).\n"
          ],
          "name": "stderr"
        },
        {
          "output_type": "stream",
          "text": [
            "images.shape: torch.Size([32, 3, 224, 224])\n"
          ],
          "name": "stdout"
        },
        {
          "output_type": "display_data",
          "data": {
            "image/png": "[encoded data removed]",
            "text/plain": [
              "<Figure size 1152x576 with 1 Axes>"
            ]
          },
          "metadata": {
            "tags": [],
            "needs_background": "light"
          }
        }
      ]
    },
    {
      "cell_type": "markdown",
      "metadata": {
        "id": "eBMIcDDr3ng0"
      },
      "source": [
        "# Utilities"
      ]
    },
    {
      "cell_type": "code",
      "metadata": {
        "colab": {
          "base_uri": "https://localhost:8080/"
        },
        "id": "paBRROctF3yx",
        "outputId": "a04c39a4-dad9-4e60-d97d-296573f974da"
      },
      "source": [
        "import pathlib\n",
        "root = pathlib.Path('./dataset/train')\n",
        "classes = sorted([j.name.split('/')[-1] for j in root.iterdir()])\n",
        "classes"
      ],
      "execution_count": null,
      "outputs": [
        {
          "output_type": "execute_result",
          "data": {
            "text/plain": [
              "['Barred Spiral',\n",
              " 'Cigar Shaped Smooth',\n",
              " 'Disturbed',\n",
              " 'Edge-on with Bulge',\n",
              " 'Edge-on without Bulge',\n",
              " 'In-between Round Smooth',\n",
              " 'Merging',\n",
              " 'Round Smooth',\n",
              " 'Unbarred Loose Spiral',\n",
              " 'Unbarred Tight Spiral']"
            ]
          },
          "metadata": {
            "tags": []
          },
          "execution_count": 17
        }
      ]
    },
    {
      "cell_type": "markdown",
      "metadata": {
        "id": "S5Bossa0Kcm-"
      },
      "source": [
        "# Defintion of accuracy, training step, validation step"
      ]
    },
    {
      "cell_type": "code",
      "metadata": {
        "id": "R10wPf38GBQ4"
      },
      "source": [
        "def accuracy(outputs, labels):\n",
        "    _, preds = torch.max(outputs, dim=1)\n",
        "    return torch.tensor(torch.sum(preds == labels).item() / len(preds))"
      ],
      "execution_count": null,
      "outputs": []
    },
    {
      "cell_type": "code",
      "metadata": {
        "id": "hsCO2guBG5-i"
      },
      "source": [
        "class ImageClassificationBase(nn.Module):\n",
        "    def training_step(self, batch):\n",
        "        images, labels = batch \n",
        "        out = self(images)                  # Generate predictions\n",
        "        loss = F.cross_entropy(out, labels) # Calculate loss\n",
        "        \n",
        "        acc = accuracy(out, labels)\n",
        "        return loss, acc\n",
        "        \n",
        "    \n",
        "    def validation_step(self, batch):\n",
        "        images, labels = batch \n",
        "        out = self(images)                    # Generate predictions\n",
        "        loss = F.cross_entropy(out, labels)   # Calculate loss\n",
        "        acc = accuracy(out, labels)           # Calculate accuracy\n",
        "        return {'val_loss': loss.detach(), 'val_acc': acc}\n",
        "        \n",
        "    def validation_epoch_end(self, outputs):\n",
        "        batch_losses = [x['val_loss'] for x in outputs]\n",
        "        epoch_loss = torch.stack(batch_losses).mean()   # Combine losses\n",
        "        batch_accs = [x['val_acc'] for x in outputs]\n",
        "        epoch_acc = torch.stack(batch_accs).mean()      # Combine accuracies\n",
        "        return {'val_loss': epoch_loss.item(), 'val_acc': epoch_acc.item()}\n",
        "    \n",
        "    def epoch_end(self, epoch, result):\n",
        "        print(\"Epoch [{}], train_loss: {:.4f}, train_acc: {:.4f},  val_loss: {:.4f}, val_acc: {:.4f}\".format(\n",
        "            epoch, result['train_loss'], result['train_acc'], result['val_loss'], result['val_acc']))"
      ],
      "execution_count": null,
      "outputs": []
    },
    {
      "cell_type": "code",
      "metadata": {
        "id": "ZYuRXxuB4WaW"
      },
      "source": [
        "class CnnModelVGG(ImageClassificationBase):\n",
        "    def __init__(self):\n",
        "        super().__init__()\n",
        "        self.network = modelvgg19\n",
        "        \n",
        "    def forward(self, xb):\n",
        "        return self.network(xb)"
      ],
      "execution_count": null,
      "outputs": []
    },
    {
      "cell_type": "markdown",
      "metadata": {
        "id": "Gm9y6iLzKh7E"
      },
      "source": [
        "# Defining the functions for devices"
      ]
    },
    {
      "cell_type": "code",
      "metadata": {
        "id": "Fk0-xUT5eIY3"
      },
      "source": [
        "def get_default_device():\n",
        "    \"\"\"Pick GPU if available, else CPU\"\"\"\n",
        "    if torch.cuda.is_available():\n",
        "        return torch.device('cuda')\n",
        "    else:\n",
        "        return torch.device('cpu')"
      ],
      "execution_count": null,
      "outputs": []
    },
    {
      "cell_type": "code",
      "metadata": {
        "id": "6HBQYi9JeL4g"
      },
      "source": [
        "def to_device(data, device):\n",
        "    \"\"\"Move tensor(s) to chosen device\"\"\"\n",
        "    if isinstance(data, (list,tuple)):\n",
        "        return [to_device(x, device) for x in data]\n",
        "    return data.to(device, non_blocking=True)"
      ],
      "execution_count": null,
      "outputs": []
    },
    {
      "cell_type": "code",
      "metadata": {
        "id": "cChRgfFmeOX4"
      },
      "source": [
        "class DeviceDataLoader():\n",
        "    \"\"\"Wrap a dataloader to move data to a device\"\"\"\n",
        "    def __init__(self, dl, device):\n",
        "        self.dl = dl\n",
        "        self.device = device\n",
        "        \n",
        "    def __iter__(self):\n",
        "        \"\"\"Yield a batch of data after moving it to device\"\"\"\n",
        "        for b in self.dl: \n",
        "            yield to_device(b, self.device)\n",
        "\n",
        "    def __len__(self):\n",
        "        \"\"\"Number of batches\"\"\"\n",
        "        return len(self.dl)"
      ],
      "execution_count": null,
      "outputs": []
    },
    {
      "cell_type": "code",
      "metadata": {
        "colab": {
          "base_uri": "https://localhost:8080/"
        },
        "id": "y8yjYm4meSBf",
        "outputId": "7e8bfa5e-8c3a-48a1-b6ef-49a2ad52c0a9"
      },
      "source": [
        "device = get_default_device()\n",
        "device"
      ],
      "execution_count": null,
      "outputs": [
        {
          "output_type": "execute_result",
          "data": {
            "text/plain": [
              "device(type='cuda')"
            ]
          },
          "metadata": {
            "tags": []
          },
          "execution_count": 24
        }
      ]
    },
    {
      "cell_type": "code",
      "metadata": {
        "id": "ZQ30wZhbecXk"
      },
      "source": [
        "train_dl = DeviceDataLoader(train_dl, device)\n",
        "val_dl = DeviceDataLoader(val_dl, device)\n",
        "pred_dl = DeviceDataLoader(pred_dl, device)\n",
        "#to_device(model, device);"
      ],
      "execution_count": null,
      "outputs": []
    },
    {
      "cell_type": "markdown",
      "metadata": {
        "id": "wtA9ZtO71lAa"
      },
      "source": [
        "# Training phase"
      ]
    },
    {
      "cell_type": "code",
      "metadata": {
        "id": "-LNhvnKDdKbm",
        "colab": {
          "base_uri": "https://localhost:8080/"
        },
        "outputId": "f5e76259-a5ca-4459-9ccd-818332c13fba"
      },
      "source": [
        "categories = []\n",
        "for d in os.listdir(\"dataset/train\"):\n",
        "    categories.append(d)\n",
        "    \n",
        "n_classes = len(categories)\n",
        "print(f'There are {n_classes} different classes.')\n",
        "\n",
        "categories = sorted(categories)"
      ],
      "execution_count": null,
      "outputs": [
        {
          "output_type": "stream",
          "text": [
            "There are 10 different classes.\n"
          ],
          "name": "stdout"
        }
      ]
    },
    {
      "cell_type": "markdown",
      "metadata": {
        "id": "JSL2ySyOLgNs"
      },
      "source": [
        "Defining the last layer of the network"
      ]
    },
    {
      "cell_type": "code",
      "metadata": {
        "id": "OuPH99reQXvY"
      },
      "source": [
        "class Identity(nn.Module):\n",
        "    def __init__(self):\n",
        "        super(Identity, self).__init__()\n",
        "        \n",
        "    def forward(self, x):\n",
        "        return x"
      ],
      "execution_count": null,
      "outputs": []
    },
    {
      "cell_type": "markdown",
      "metadata": {
        "id": "qgCVFcR3LdXb"
      },
      "source": [
        "Using the premade class for metrics"
      ]
    },
    {
      "cell_type": "code",
      "metadata": {
        "id": "3ftwem70OmcR"
      },
      "source": [
        "class ClassificationMetrics:\n",
        "\n",
        "  # Constructor takes the number of classes\n",
        "  def __init__(self, num_classes=10):\n",
        "    self.num_classes = num_classes\n",
        "    # Initialize a confusion matrix\n",
        "    self.C = torch.zeros(num_classes, num_classes) \n",
        "\n",
        "  # Update the confusion matrix with the new scores\n",
        "  def add(self, yp, yt):\n",
        "    # yp: 1D tensor with predictions\n",
        "    # yt: 1D tensor with ground-truth targets\n",
        "    with torch.no_grad(): # We require no computation graph\n",
        "      self.C+=(yt*self.C.shape[1]+yp).bincount(minlength=self.C.numel()).view(self.C.shape).float()\n",
        "\n",
        "  def clear(self):\n",
        "    # We set the confusion matrix to zero\n",
        "    self.C.zero_()\n",
        "\n",
        "  # Computes the global accuracy\n",
        "  def acc(self):\n",
        "    return self.C.diag().sum().item()/self.C.sum()\n",
        "\n",
        "  # Computes the class-averaged accuracy\n",
        "  def mAcc(self):\n",
        "    return (self.C.diag()/self.C.sum(-1)).mean().item()\n",
        "\n",
        "  # Computers the class-averaged Intersection over Union\n",
        "  def mIoU(self):\n",
        "    return (self.C.diag()/(self.C.sum(0)+self.C.sum(1)-self.C.diag())).mean().item()\n",
        "\n",
        "  # Returns the confusion matrix\n",
        "  def confusion_matrix(self):\n",
        "    return self.C"
      ],
      "execution_count": null,
      "outputs": []
    },
    {
      "cell_type": "markdown",
      "metadata": {
        "id": "oAnE0CDzLTrr"
      },
      "source": [
        "Retrieving of the best model and changing the last layer "
      ]
    },
    {
      "cell_type": "code",
      "metadata": {
        "id": "7fki4xt8BQ61"
      },
      "source": [
        "bestModel = torch.load('/content/drive/MyDrive/Models/VGG/VGG19best.model')\n",
        "bestModel.classifier = Identity()\n",
        "bestModel.eval()\n",
        "bestModel = to_device(bestModel, device)"
      ],
      "execution_count": null,
      "outputs": []
    },
    {
      "cell_type": "markdown",
      "metadata": {
        "id": "LOBLcA56LVV7"
      },
      "source": [
        "Using SVM for training"
      ]
    },
    {
      "cell_type": "code",
      "metadata": {
        "colab": {
          "base_uri": "https://localhost:8080/"
        },
        "id": "ZchxPrn_On6h",
        "outputId": "0702b961-03bd-4e8c-87b5-431e345ec438"
      },
      "source": [
        "from sklearn import svm\n",
        "\n",
        "features = []\n",
        "targets=[]\n",
        "\n",
        "device = torch.device(\"cuda:0\" if torch.cuda.is_available() else \"cpu\")\n",
        "\n",
        "with torch.no_grad():\n",
        "  for X,yt in train_dl:\n",
        "    #X, yt = X.to(device), yt.to(device)\n",
        "\n",
        "    ft_single = bestModel(X)\n",
        "\n",
        "    ft_single = ft_single.cpu()\n",
        "    yt = yt.cpu()\n",
        "\n",
        "    features.append(ft_single)\n",
        "    targets.append(yt)\n",
        "\n",
        "features=torch.cat(features,dim=0)\n",
        "targets=torch.cat(targets,dim=0)\n",
        "\n",
        "\n",
        "\n",
        "svm_model=svm.SVC()\n",
        "svm_model.fit(features,targets)\n",
        "\n",
        "# We compute the performance of the trained svm on val data\n",
        "metric_tracker=ClassificationMetrics(num_classes=10)\n",
        "for X,yt in val_dl:\n",
        "  with torch.no_grad():\n",
        "    \n",
        "    feat=bestModel(X)\n",
        "\n",
        "    feat = feat.cpu()\n",
        "\n",
        "    yp = svm_model.predict(feat)\n",
        "\n",
        "    yt = yt.cpu()\n",
        "\n",
        "    metric_tracker.add(yp,yt)\n",
        "\n",
        "print(\"Acc: {} | mAcc: {} | mIoU: {}\".format(metric_tracker.acc(),metric_tracker.mAcc(),metric_tracker.mIoU() ))\n"
      ],
      "execution_count": null,
      "outputs": [
        {
          "output_type": "stream",
          "text": [
            "Acc: 0.8890228867530823 | mAcc: 0.8697832226753235 | mIoU: 0.7806361317634583\n"
          ],
          "name": "stdout"
        }
      ]
    },
    {
      "cell_type": "markdown",
      "metadata": {
        "id": "rmCpUfeyLFep"
      },
      "source": [
        "# Testing phase"
      ]
    },
    {
      "cell_type": "markdown",
      "metadata": {
        "id": "X1D5e4zWLJ32"
      },
      "source": [
        "Here we define the function that make the prediction on the single image"
      ]
    },
    {
      "cell_type": "code",
      "metadata": {
        "id": "7U_ivyoec1Bk"
      },
      "source": [
        "def predict_single_testSVM(input, model, svm_model, path, pred_list):\n",
        "    input = input.cuda()\n",
        "    inputs = input.unsqueeze(0)   # unsqueeze the input i.e. add an additonal dimension\n",
        "    \n",
        "    feat = model(inputs)\n",
        "    feat = feat.detach().cpu()\n",
        "\n",
        "    pred = svm_model.predict(feat)\n",
        "    pred = torch.from_numpy(pred)\n",
        "    \n",
        "    number_label = (pred).item()\n",
        "\n",
        "    if number_label == 0:\n",
        "      label = categories[0]\n",
        "    if number_label == 1:\n",
        "      label = categories[1]\n",
        "    if number_label == 2:\n",
        "      label = categories[2]\n",
        "    if number_label == 3:\n",
        "      label = categories[3]\n",
        "    if number_label == 4:\n",
        "      label = categories[4]\n",
        "    if number_label == 5:\n",
        "      label = categories[5]\n",
        "    if number_label == 6:\n",
        "      label = categories[6]\n",
        "    if number_label == 7:\n",
        "      label = categories[7]\n",
        "    if number_label == 8:\n",
        "      label = categories[8]\n",
        "    if number_label == 9:\n",
        "      label = categories[9]\n",
        "    \n",
        "    #print(path,\",\",label)\n",
        "    pred_str = \"\"\n",
        "    pred_str = pred_str + path + \",\" + label\n",
        "\n",
        "    pred_dict = {}\n",
        "    pred_dict['pred_str'] = pred_str\n",
        "    pred_dict['num'] = int(path)\n",
        "    \n",
        "    #print(pred_dict)\n",
        "\n",
        "    pred_list.append(pred_dict)\n",
        "    "
      ],
      "execution_count": null,
      "outputs": []
    },
    {
      "cell_type": "markdown",
      "metadata": {
        "id": "1gyEBWp0LN2v"
      },
      "source": [
        "Here we predict the label of each image in test set and write in on a CSV file"
      ]
    },
    {
      "cell_type": "code",
      "metadata": {
        "id": "w20sPYHSdYle"
      },
      "source": [
        "from torchvision import datasets\n",
        "class ImageFolderWithPaths(datasets.ImageFolder):\n",
        "    def __getitem__(self, index):\n",
        "        return super(ImageFolderWithPaths, self).__getitem__(index) + (self.imgs[index][0],)\n",
        "\n",
        "\n",
        "# instantiate the dataset and dataloader\n",
        "data_dir = \"dataset/test\"\n",
        "dataset = ImageFolderWithPaths(root=data_dir, transform=transform_test)\n",
        "dataloader = DataLoader(dataset)\n",
        "\n",
        "pred_list = []\n",
        "\n",
        "for inputs, labels, paths in dataloader:\n",
        "   \n",
        "\n",
        "    sliced = paths[0]\n",
        "    sliced = sliced.replace('.png','')\n",
        "    sliced = sliced.replace('dataset/test/unknown/','')\n",
        "    \n",
        "    \n",
        "    \n",
        "\n",
        "    predict_single_testSVM(inputs[0],bestModel, svm_model, sliced, pred_list)\n",
        "\n",
        "\n",
        "    \n",
        "pred_list = sorted(pred_list, key=lambda k: int(k['num'])) \n",
        "\n",
        "text_file = open(\"dataset/output.csv\", \"a\")\n",
        "\n",
        "\n",
        "for x in pred_list:\n",
        "  #print (x['pred_str'])\n",
        "  text_file.write(x['pred_str'])\n",
        "  text_file.write(\"\\n\")\n",
        "\n",
        "text_file.close()\n"
      ],
      "execution_count": null,
      "outputs": []
    }
  ]
}